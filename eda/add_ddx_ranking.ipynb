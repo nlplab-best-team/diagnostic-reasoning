{
 "cells": [
  {
   "cell_type": "code",
   "execution_count": null,
   "metadata": {},
   "outputs": [],
   "source": [
    "from utils import read_patient_data, preprocess_data, engs_to_keys, get_dx_distribution, common_mappings"
   ]
  },
  {
   "attachments": {},
   "cell_type": "markdown",
   "metadata": {},
   "source": [
    "### Analysis"
   ]
  },
  {
   "cell_type": "code",
   "execution_count": null,
   "metadata": {},
   "outputs": [],
   "source": [
    "initial_evidence = 'toux'\n",
    "data_dir = \"../ddxplus/\"\n",
    "df = read_patient_data(data_dir, split='train')\n",
    "df = df[df['INITIAL_EVIDENCE'] == initial_evidence] \n",
    "df = preprocess_data(data_dir, df)\n",
    "df.head()"
   ]
  },
  {
   "cell_type": "code",
   "execution_count": null,
   "metadata": {},
   "outputs": [],
   "source": [
    "df.info()"
   ]
  },
  {
   "attachments": {},
   "cell_type": "markdown",
   "metadata": {},
   "source": [
    "## Get DDx Distribution Based on Observed Evidence"
   ]
  },
  {
   "cell_type": "code",
   "execution_count": null,
   "metadata": {},
   "outputs": [],
   "source": [
    "positives = [\"cough\", \"fever\", \"dyspnea\"] #, \"diffuse muscle pain\", \"extremely fatigue\"] #, \"dyspnea\", \"wheezing\", \"smoking\"]\n",
    "negatives = [\"diffuse muscle pain\", \"chest pain\", \"smoking\"] #\"nasal congestion or a clear runny nose\", \"fever\"] #, \"GERD sensation\"] #, \"COPD history\", \"allergy tendency\", \"asthma\", \"sputum\"] # [\"rhino_clair\"]\n",
    "\n",
    "ddx2prob = get_dx_distribution(\n",
    "    df,\n",
    "    positives=engs_to_keys(positives, common_mappings),\n",
    "    negatives=engs_to_keys(negatives, common_mappings)\n",
    ")\n",
    "\n",
    "print(\", \".join(ddx2prob.keys()))\n",
    "ddx2prob"
   ]
  }
 ],
 "metadata": {
  "kernelspec": {
   "display_name": "cuda-11.3",
   "language": "python",
   "name": "python3"
  },
  "language_info": {
   "codemirror_mode": {
    "name": "ipython",
    "version": 3
   },
   "file_extension": ".py",
   "mimetype": "text/x-python",
   "name": "python",
   "nbconvert_exporter": "python",
   "pygments_lexer": "ipython3",
   "version": "3.8.15"
  },
  "orig_nbformat": 4,
  "vscode": {
   "interpreter": {
    "hash": "35b66dd0c8f752918e1728d86abaa8fb004a7dee1d90779ea4d0023d852f9fe7"
   }
  }
 },
 "nbformat": 4,
 "nbformat_minor": 2
}
