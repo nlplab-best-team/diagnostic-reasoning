{
 "cells": [
  {
   "cell_type": "code",
   "execution_count": 1,
   "metadata": {},
   "outputs": [
    {
     "name": "stderr",
     "output_type": "stream",
     "text": [
      "Matplotlib created a temporary config/cache directory at /tmp/matplotlib-7zdml15y because the default path (/home/wlchen/.config/matplotlib) is not a writable directory; it is highly recommended to set the MPLCONFIGDIR environment variable to a writable directory, in particular to speed up the import of Matplotlib and to better support multiprocessing.\n"
     ]
    }
   ],
   "source": [
    "from utils import read_patient_data, preprocess_data, get_topk_subset"
   ]
  },
  {
   "attachments": {},
   "cell_type": "markdown",
   "metadata": {},
   "source": [
    "### Analysis"
   ]
  },
  {
   "cell_type": "code",
   "execution_count": 2,
   "metadata": {},
   "outputs": [
    {
     "data": {
      "text/html": [
       "<div>\n",
       "<style scoped>\n",
       "    .dataframe tbody tr th:only-of-type {\n",
       "        vertical-align: middle;\n",
       "    }\n",
       "\n",
       "    .dataframe tbody tr th {\n",
       "        vertical-align: top;\n",
       "    }\n",
       "\n",
       "    .dataframe thead th {\n",
       "        text-align: right;\n",
       "    }\n",
       "</style>\n",
       "<table border=\"1\" class=\"dataframe\">\n",
       "  <thead>\n",
       "    <tr style=\"text-align: right;\">\n",
       "      <th></th>\n",
       "      <th>AGE</th>\n",
       "      <th>DIFFERENTIAL_DIAGNOSIS</th>\n",
       "      <th>SEX</th>\n",
       "      <th>PATHOLOGY</th>\n",
       "      <th>EVIDENCES</th>\n",
       "      <th>INITIAL_EVIDENCE</th>\n",
       "      <th>DIFFERENTIAL_DIAGNOSIS_WITHOUT_PROB</th>\n",
       "      <th>PATHOLOGY_ENG</th>\n",
       "      <th>DIFFERENTIAL_DIAGNOSIS_WITHOUT_PROB_ENG</th>\n",
       "    </tr>\n",
       "  </thead>\n",
       "  <tbody>\n",
       "    <tr>\n",
       "      <th>0</th>\n",
       "      <td>49</td>\n",
       "      <td>[[Bronchite, 0.20230062181160519], [RGO, 0.179...</td>\n",
       "      <td>F</td>\n",
       "      <td>RGO</td>\n",
       "      <td>[douleurxx, douleurxx_carac_@_lancinante_/_cho...</td>\n",
       "      <td>toux</td>\n",
       "      <td>[Bronchite, RGO, Possible NSTEMI / STEMI, Angi...</td>\n",
       "      <td>GERD</td>\n",
       "      <td>[Bronchitis, GERD, Possible NSTEMI / STEMI, Un...</td>\n",
       "    </tr>\n",
       "    <tr>\n",
       "      <th>4</th>\n",
       "      <td>70</td>\n",
       "      <td>[[IVRS ou virémie, 0.21257615919851483], [Poss...</td>\n",
       "      <td>F</td>\n",
       "      <td>IVRS ou virémie</td>\n",
       "      <td>[contact, diaph, douleurxx, douleurxx_carac_@_...</td>\n",
       "      <td>toux</td>\n",
       "      <td>[IVRS ou virémie, Possible influenza ou syndro...</td>\n",
       "      <td>URTI</td>\n",
       "      <td>[URTI, Influenza, Bronchitis, HIV (initial inf...</td>\n",
       "    </tr>\n",
       "    <tr>\n",
       "      <th>22</th>\n",
       "      <td>10</td>\n",
       "      <td>[[Possible influenza ou syndrome virémique typ...</td>\n",
       "      <td>F</td>\n",
       "      <td>Possible influenza ou syndrome virémique typique</td>\n",
       "      <td>[diaph, douleurxx, douleurxx_carac_@_une_lourd...</td>\n",
       "      <td>toux</td>\n",
       "      <td>[Possible influenza ou syndrome virémique typi...</td>\n",
       "      <td>Influenza</td>\n",
       "      <td>[Influenza, URTI, HIV (initial infection), Bro...</td>\n",
       "    </tr>\n",
       "    <tr>\n",
       "      <th>26</th>\n",
       "      <td>1</td>\n",
       "      <td>[[Bronchite, 0.29070421508775757], [Otite moye...</td>\n",
       "      <td>M</td>\n",
       "      <td>Otite moyenne aigue (OMA)</td>\n",
       "      <td>[H6690, douleurxx, douleurxx_carac_@_sensible,...</td>\n",
       "      <td>toux</td>\n",
       "      <td>[Bronchite, Otite moyenne aigue (OMA), Pneumon...</td>\n",
       "      <td>Acute otitis media</td>\n",
       "      <td>[Bronchitis, Acute otitis media, Pneumonia, Tu...</td>\n",
       "    </tr>\n",
       "    <tr>\n",
       "      <th>52</th>\n",
       "      <td>77</td>\n",
       "      <td>[[IVRS ou virémie, 0.24961180257533938], [Bron...</td>\n",
       "      <td>M</td>\n",
       "      <td>IVRS ou virémie</td>\n",
       "      <td>[crowd, douleurxx, douleurxx_carac_@_pénible, ...</td>\n",
       "      <td>toux</td>\n",
       "      <td>[IVRS ou virémie, Bronchite, Possible influenz...</td>\n",
       "      <td>URTI</td>\n",
       "      <td>[URTI, Bronchitis, Influenza, Tuberculosis, HI...</td>\n",
       "    </tr>\n",
       "  </tbody>\n",
       "</table>\n",
       "</div>"
      ],
      "text/plain": [
       "    AGE                             DIFFERENTIAL_DIAGNOSIS SEX  \\\n",
       "0    49  [[Bronchite, 0.20230062181160519], [RGO, 0.179...   F   \n",
       "4    70  [[IVRS ou virémie, 0.21257615919851483], [Poss...   F   \n",
       "22   10  [[Possible influenza ou syndrome virémique typ...   F   \n",
       "26    1  [[Bronchite, 0.29070421508775757], [Otite moye...   M   \n",
       "52   77  [[IVRS ou virémie, 0.24961180257533938], [Bron...   M   \n",
       "\n",
       "                                           PATHOLOGY  \\\n",
       "0                                                RGO   \n",
       "4                                    IVRS ou virémie   \n",
       "22  Possible influenza ou syndrome virémique typique   \n",
       "26                         Otite moyenne aigue (OMA)   \n",
       "52                                   IVRS ou virémie   \n",
       "\n",
       "                                            EVIDENCES INITIAL_EVIDENCE  \\\n",
       "0   [douleurxx, douleurxx_carac_@_lancinante_/_cho...             toux   \n",
       "4   [contact, diaph, douleurxx, douleurxx_carac_@_...             toux   \n",
       "22  [diaph, douleurxx, douleurxx_carac_@_une_lourd...             toux   \n",
       "26  [H6690, douleurxx, douleurxx_carac_@_sensible,...             toux   \n",
       "52  [crowd, douleurxx, douleurxx_carac_@_pénible, ...             toux   \n",
       "\n",
       "                  DIFFERENTIAL_DIAGNOSIS_WITHOUT_PROB       PATHOLOGY_ENG  \\\n",
       "0   [Bronchite, RGO, Possible NSTEMI / STEMI, Angi...                GERD   \n",
       "4   [IVRS ou virémie, Possible influenza ou syndro...                URTI   \n",
       "22  [Possible influenza ou syndrome virémique typi...           Influenza   \n",
       "26  [Bronchite, Otite moyenne aigue (OMA), Pneumon...  Acute otitis media   \n",
       "52  [IVRS ou virémie, Bronchite, Possible influenz...                URTI   \n",
       "\n",
       "              DIFFERENTIAL_DIAGNOSIS_WITHOUT_PROB_ENG  \n",
       "0   [Bronchitis, GERD, Possible NSTEMI / STEMI, Un...  \n",
       "4   [URTI, Influenza, Bronchitis, HIV (initial inf...  \n",
       "22  [Influenza, URTI, HIV (initial infection), Bro...  \n",
       "26  [Bronchitis, Acute otitis media, Pneumonia, Tu...  \n",
       "52  [URTI, Bronchitis, Influenza, Tuberculosis, HI...  "
      ]
     },
     "execution_count": 2,
     "metadata": {},
     "output_type": "execute_result"
    }
   ],
   "source": [
    "initial_evidence = 'toux'\n",
    "data_dir = \"../ddxplus/raw-data\"\n",
    "df = read_patient_data(data_dir, split='test')\n",
    "df = df[df['INITIAL_EVIDENCE'] == initial_evidence] \n",
    "df = preprocess_data(data_dir, df)\n",
    "df.head()\n"
   ]
  },
  {
   "cell_type": "code",
   "execution_count": 3,
   "metadata": {},
   "outputs": [
    {
     "name": "stdout",
     "output_type": "stream",
     "text": [
      "<class 'pandas.core.frame.DataFrame'>\n",
      "Int64Index: 9618 entries, 0 to 134483\n",
      "Data columns (total 9 columns):\n",
      " #   Column                                   Non-Null Count  Dtype \n",
      "---  ------                                   --------------  ----- \n",
      " 0   AGE                                      9618 non-null   int64 \n",
      " 1   DIFFERENTIAL_DIAGNOSIS                   9618 non-null   object\n",
      " 2   SEX                                      9618 non-null   object\n",
      " 3   PATHOLOGY                                9618 non-null   object\n",
      " 4   EVIDENCES                                9618 non-null   object\n",
      " 5   INITIAL_EVIDENCE                         9618 non-null   object\n",
      " 6   DIFFERENTIAL_DIAGNOSIS_WITHOUT_PROB      9618 non-null   object\n",
      " 7   PATHOLOGY_ENG                            9618 non-null   object\n",
      " 8   DIFFERENTIAL_DIAGNOSIS_WITHOUT_PROB_ENG  9618 non-null   object\n",
      "dtypes: int64(1), object(8)\n",
      "memory usage: 751.4+ KB\n"
     ]
    }
   ],
   "source": [
    "df.info()"
   ]
  },
  {
   "attachments": {},
   "cell_type": "markdown",
   "metadata": {},
   "source": [
    "### Get the subset of testset with pathology in top-k ddx."
   ]
  },
  {
   "cell_type": "code",
   "execution_count": 15,
   "metadata": {},
   "outputs": [
    {
     "name": "stdout",
     "output_type": "stream",
     "text": [
      "hit @  1: 4454 / 9618\n",
      "hit @  2: 7595 / 9618\n",
      "hit @  3: 8447 / 9618\n",
      "hit @  4: 9022 / 9618\n",
      "hit @  5: 9315 / 9618\n",
      "hit @  6: 9386 / 9618\n",
      "hit @  7: 9435 / 9618\n",
      "hit @  8: 9548 / 9618\n",
      "hit @  9: 9583 / 9618\n",
      "hit @ 10: 9587 / 9618\n"
     ]
    }
   ],
   "source": [
    "for k in range(1, 11):\n",
    "    print(f'hit @ {k:2}: {get_topk_subset(df, k=k).shape[0]} / {df.shape[0]}')"
   ]
  },
  {
   "cell_type": "code",
   "execution_count": null,
   "metadata": {},
   "outputs": [],
   "source": []
  }
 ],
 "metadata": {
  "kernelspec": {
   "display_name": "torch1.7.1",
   "language": "python",
   "name": "python3"
  },
  "language_info": {
   "codemirror_mode": {
    "name": "ipython",
    "version": 3
   },
   "file_extension": ".py",
   "mimetype": "text/x-python",
   "name": "python",
   "nbconvert_exporter": "python",
   "pygments_lexer": "ipython3",
   "version": "3.8.11"
  },
  "orig_nbformat": 4,
  "vscode": {
   "interpreter": {
    "hash": "cd6002ba671f6b90ab33c554052cf090b1185f9b04b2f93f7d99c32c612ef541"
   }
  }
 },
 "nbformat": 4,
 "nbformat_minor": 2
}
